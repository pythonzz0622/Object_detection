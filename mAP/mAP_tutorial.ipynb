{
 "cells": [
  {
   "cell_type": "code",
   "execution_count": 1,
   "id": "1fd99668",
   "metadata": {},
   "outputs": [],
   "source": [
    "import os \n",
    "import numpy as np\n",
    "import pandas as pd\n",
    "import matplotlib.pyplot as plt\n",
    "from pycocotools import coco\n",
    "import json\n",
    "import cv2\n",
    "from matplotlib.lines import Line2D\n",
    "from matplotlib.patches import Patch\n",
    "from ipywidgets import interact\n",
    "import utils"
   ]
  },
  {
   "cell_type": "code",
   "execution_count": 7,
   "id": "0dbf5433",
   "metadata": {},
   "outputs": [
    {
     "name": "stdout",
     "output_type": "stream",
     "text": [
      "loading annotations into memory...\n",
      "Done (t=0.00s)\n",
      "creating index...\n",
      "index created!\n",
      "loading annotations into memory...\n",
      "Done (t=0.00s)\n",
      "creating index...\n",
      "index created!\n"
     ]
    }
   ],
   "source": [
    "coco_tr = coco.COCO('truth.json')\n",
    "coco_de = coco.COCO('detection.json')"
   ]
  },
  {
   "cell_type": "code",
   "execution_count": 16,
   "id": "255ad5cb",
   "metadata": {},
   "outputs": [
    {
     "data": {
      "text/plain": [
       "[{'id': 0, 'name': 'buffalo', 'super_category': 'animal'},\n",
       " {'id': 1, 'name': 'elephant', 'super_category': 'animal'},\n",
       " {'id': 2, 'name': 'rhino', 'super_category': 'animal'},\n",
       " {'id': 3, 'name': 'zebra', 'super_category': 'animal'}]"
      ]
     },
     "execution_count": 16,
     "metadata": {},
     "output_type": "execute_result"
    }
   ],
   "source": [
    "coco_tr.loadCats( coco_tr.getCatIds() )"
   ]
  },
  {
   "cell_type": "code",
   "execution_count": 9,
   "id": "06097bd0",
   "metadata": {},
   "outputs": [],
   "source": [
    "class_name = { '0' : \"buffalo\", '1' : \"elephant\", '2' : \"rhino\", '3' : \"zebra\"}"
   ]
  },
  {
   "cell_type": "code",
   "execution_count": 10,
   "id": "ff963acc",
   "metadata": {
    "scrolled": false
   },
   "outputs": [
    {
     "data": {
      "application/vnd.jupyter.widget-view+json": {
       "model_id": "9ff659a27d344b75b201afd6b8f0b94a",
       "version_major": 2,
       "version_minor": 0
      },
      "text/plain": [
       "interactive(children=(IntSlider(value=0, description='index', max=8), Output()), _dom_classes=('widget-interac…"
      ]
     },
     "metadata": {},
     "output_type": "display_data"
    }
   ],
   "source": [
    "@interact(index=(0, len(coco_tr.getImgIds()) - 1))\n",
    "def show_sample(index = 0 ):\n",
    "    utils.show_sample(coco_tr , coco_de , class_name , index )"
   ]
  },
  {
   "cell_type": "markdown",
   "id": "197ad2ad",
   "metadata": {},
   "source": [
    "## IOU 구하기"
   ]
  },
  {
   "cell_type": "code",
   "execution_count": 11,
   "id": "f51c731e",
   "metadata": {},
   "outputs": [
    {
     "data": {
      "text/plain": [
       "0.5116092874299439"
      ]
     },
     "execution_count": 11,
     "metadata": {},
     "output_type": "execute_result"
    }
   ],
   "source": [
    "tr_bbox = coco_tr.loadAnns( ids = [1])[0]['bbox']\n",
    "de_bbox = coco_de.loadAnns( ids = [1])[0]['bbox']\n",
    "## iou구하기\n",
    "utils.IOU(tr_bbox , de_bbox)"
   ]
  },
  {
   "cell_type": "markdown",
   "id": "b14a6065",
   "metadata": {},
   "source": [
    "## 특정 class , confidence_score에 대한 recall , precision값 구하기"
   ]
  },
  {
   "cell_type": "code",
   "execution_count": 12,
   "id": "d65ff48e",
   "metadata": {},
   "outputs": [
    {
     "data": {
      "text/plain": [
       "(0.5, 0.5)"
      ]
     },
     "execution_count": 12,
     "metadata": {},
     "output_type": "execute_result"
    }
   ],
   "source": [
    "eval_AP = utils.get_AP(coco_de , coco_tr)\n",
    "\n",
    "##category 1 에대한 recall , precision 값\n",
    "eval_AP.get_recall_precision(cat_i = 1 , confidence_score = 0.1 )"
   ]
  },
  {
   "cell_type": "markdown",
   "id": "f9f95009",
   "metadata": {},
   "source": [
    "## 11보간법을 활용한 특정 class에서 AP값 구하기"
   ]
  },
  {
   "cell_type": "code",
   "execution_count": 13,
   "id": "62466f16",
   "metadata": {},
   "outputs": [
    {
     "data": {
      "text/plain": [
       "0.75"
      ]
     },
     "execution_count": 13,
     "metadata": {},
     "output_type": "execute_result"
    }
   ],
   "source": [
    "eval_AP.AP(cat_i = 0)"
   ]
  },
  {
   "cell_type": "markdown",
   "id": "3a41132e",
   "metadata": {},
   "source": [
    "## get mAP"
   ]
  },
  {
   "cell_type": "code",
   "execution_count": 14,
   "id": "8e4b26bc",
   "metadata": {},
   "outputs": [
    {
     "name": "stdout",
     "output_type": "stream",
     "text": [
      "0.587783744033744\n"
     ]
    }
   ],
   "source": [
    "##get mAP\n",
    "mAP = 0 \n",
    "for i in range(len(coco_tr.getCatIds())):\n",
    "    mAP += eval_AP.AP(i)\n",
    "print(mAP / 4)"
   ]
  }
 ],
 "metadata": {
  "kernelspec": {
   "display_name": "jiwon_pack",
   "language": "python",
   "name": "jiwon_pack"
  },
  "language_info": {
   "codemirror_mode": {
    "name": "ipython",
    "version": 3
   },
   "file_extension": ".py",
   "mimetype": "text/x-python",
   "name": "python",
   "nbconvert_exporter": "python",
   "pygments_lexer": "ipython3",
   "version": "3.9.12"
  }
 },
 "nbformat": 4,
 "nbformat_minor": 5
}
